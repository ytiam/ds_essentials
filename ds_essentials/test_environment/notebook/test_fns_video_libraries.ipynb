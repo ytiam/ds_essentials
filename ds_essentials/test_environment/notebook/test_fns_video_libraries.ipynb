{
 "cells": [
  {
   "cell_type": "code",
   "execution_count": 5,
   "metadata": {},
   "outputs": [],
   "source": [
    "def extractFramesofVideo(pathIn, pathOut, fileName):\n",
    "    \"\"\"\n",
    "    Extract frames  from video input\n",
    "    \n",
    "    \"\"\"\n",
    "    \n",
    "    import sys\n",
    "    import argparse\n",
    "    import cv2\n",
    "    count = 0\n",
    "    vidcap = cv2.VideoCapture(pathIn + fileName)\n",
    "    success,image = vidcap.read()\n",
    "    success = True\n",
    "    while success:\n",
    "        vidcap.set(cv2.CAP_PROP_POS_MSEC,(count*1000))    # added this line \n",
    "        success,image = vidcap.read()\n",
    "        if (success != False):\n",
    "            print ('Read a new frame: ',count, '   frame_present:', success)\n",
    "            cv2.imwrite( pathOut + \"frame_%d.jpg\" % count, image)     # save frame as JPEG file\n",
    "            count = count + 1\n",
    "        else:\n",
    "            break;"
   ]
  },
  {
   "cell_type": "code",
   "execution_count": 6,
   "metadata": {},
   "outputs": [
    {
     "name": "stdout",
     "output_type": "stream",
     "text": [
      "Reading video...\n",
      "Read a new frame:  0    frame_present: True\n",
      "Read a new frame:  1    frame_present: True\n",
      "Read a new frame:  2    frame_present: True\n",
      "Read a new frame:  3    frame_present: True\n",
      "Read a new frame:  4    frame_present: True\n",
      "Read a new frame:  5    frame_present: True\n",
      "Read a new frame:  6    frame_present: True\n",
      "Read a new frame:  7    frame_present: True\n",
      "Read a new frame:  8    frame_present: True\n",
      "Read a new frame:  9    frame_present: True\n",
      "Read a new frame:  10    frame_present: True\n",
      "Read a new frame:  11    frame_present: True\n"
     ]
    }
   ],
   "source": [
    "if __name__==\"__main__\":\n",
    "    # reading a video from a folder\n",
    "    print(\"Reading video...\")\n",
    "    # file name \n",
    "    fileName =  'bird.avi' \n",
    "    # path to the input video\n",
    "    pathIn = '/home/madhumala/Projects/test_fn_ML_libraries/input/video/'\n",
    "    # output path where frames will be saved\n",
    "    pathOut = '/home/madhumala/Projects/test_fn_ML_libraries/input/video_out/'\n",
    "    # call the frame extraction function\n",
    "    extractFramesofVideo(pathIn,pathOut, fileName)"
   ]
  }
 ],
 "metadata": {
  "kernelspec": {
   "display_name": "Python 3",
   "language": "python",
   "name": "python3"
  },
  "language_info": {
   "codemirror_mode": {
    "name": "ipython",
    "version": 3
   },
   "file_extension": ".py",
   "mimetype": "text/x-python",
   "name": "python",
   "nbconvert_exporter": "python",
   "pygments_lexer": "ipython3",
   "version": "3.7.6"
  }
 },
 "nbformat": 4,
 "nbformat_minor": 4
}
