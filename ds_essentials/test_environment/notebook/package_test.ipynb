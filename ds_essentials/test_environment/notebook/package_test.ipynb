{
 "cells": [
  {
   "cell_type": "code",
   "execution_count": 1,
   "metadata": {
    "ExecuteTime": {
     "end_time": "2020-03-12T10:37:39.733313Z",
     "start_time": "2020-03-12T10:37:39.719968Z"
    }
   },
   "outputs": [],
   "source": [
    "%load_ext autotime"
   ]
  },
  {
   "cell_type": "code",
   "execution_count": null,
   "metadata": {},
   "outputs": [],
   "source": []
  },
  {
   "cell_type": "code",
   "execution_count": 32,
   "metadata": {
    "ExecuteTime": {
     "end_time": "2020-03-12T11:14:21.717690Z",
     "start_time": "2020-03-12T11:14:21.700508Z"
    }
   },
   "outputs": [
    {
     "name": "stdout",
     "output_type": "stream",
     "text": [
      "time: 4.5 ms\n"
     ]
    }
   ],
   "source": [
    "from flair.data import Sentence\n",
    "from textblob import TextBlob\n",
    "import spacy\n",
    "import en_core_web_sm\n",
    "import gensim\n",
    "from gensim import corpora\n",
    "import readability\n",
    "from pydub import AudioSegment\n",
    "import textacy.datasets\n",
    "import nlpnet\n",
    "import os\n",
    "import jellyfish\n",
    "import dask.dataframe as dd\n",
    "import pyarrow\n",
    "import great_expectations as ge\n",
    "import io\n",
    "import textract"
   ]
  },
  {
   "cell_type": "markdown",
   "metadata": {},
   "source": [
    "# textract"
   ]
  },
  {
   "cell_type": "code",
   "execution_count": 45,
   "metadata": {
    "ExecuteTime": {
     "end_time": "2020-03-12T11:23:27.865358Z",
     "start_time": "2020-03-12T11:23:27.846775Z"
    },
    "scrolled": true
   },
   "outputs": [
    {
     "name": "stdout",
     "output_type": "stream",
     "text": [
      "textract : No Issues.......\n",
      "time: 9.22 ms\n"
     ]
    }
   ],
   "source": [
    "text = textract.process(os. getcwd() +'/test_data.csv')\n",
    "if text != ' '  :\n",
    "    print('textract : No Issues.......')\n",
    "else:\n",
    "    print('textract : Problem.......')"
   ]
  },
  {
   "cell_type": "markdown",
   "metadata": {},
   "source": [
    "# io"
   ]
  },
  {
   "cell_type": "code",
   "execution_count": 39,
   "metadata": {
    "ExecuteTime": {
     "end_time": "2020-03-12T11:16:39.934795Z",
     "start_time": "2020-03-12T11:16:39.924322Z"
    },
    "scrolled": true
   },
   "outputs": [
    {
     "name": "stdout",
     "output_type": "stream",
     "text": [
      "io : No Issues.......\n",
      "time: 2.47 ms\n"
     ]
    }
   ],
   "source": [
    "if io.StringIO(\"some initial text data\") != ' '  :\n",
    "    print('io : No Issues.......')\n",
    "else:\n",
    "    print('io : Problem.......')"
   ]
  },
  {
   "cell_type": "markdown",
   "metadata": {},
   "source": [
    "# great_expectations"
   ]
  },
  {
   "cell_type": "code",
   "execution_count": 30,
   "metadata": {
    "ExecuteTime": {
     "end_time": "2020-03-12T11:12:30.557089Z",
     "start_time": "2020-03-12T11:12:30.546512Z"
    },
    "scrolled": true
   },
   "outputs": [
    {
     "name": "stdout",
     "output_type": "stream",
     "text": [
      "great_expectations : No Issues.......\n",
      "time: 7.09 ms\n"
     ]
    }
   ],
   "source": [
    "df = ge.read_csv(os. getcwd() +'/test_data.csv')\n",
    "if df.shape[1] != 0  :\n",
    "    print('great_expectations : No Issues.......')\n",
    "else:\n",
    "    print('great_expectations : Problem.......')"
   ]
  },
  {
   "cell_type": "markdown",
   "metadata": {},
   "source": [
    "# dask"
   ]
  },
  {
   "cell_type": "code",
   "execution_count": 19,
   "metadata": {
    "ExecuteTime": {
     "end_time": "2020-03-12T11:02:08.281494Z",
     "start_time": "2020-03-12T11:02:08.235821Z"
    }
   },
   "outputs": [
    {
     "name": "stdout",
     "output_type": "stream",
     "text": [
      "dask : No Issues.......\n",
      "time: 35.6 ms\n"
     ]
    }
   ],
   "source": [
    "df = dd.read_csv(os. getcwd() +'/test_data.csv',encoding ='latin')\n",
    "\n",
    "if df.shape[1] != 0  :\n",
    "    print('dask : No Issues.......')\n",
    "else:\n",
    "    print('dask : Problem.......')"
   ]
  },
  {
   "cell_type": "markdown",
   "metadata": {},
   "source": [
    "# jellyfish"
   ]
  },
  {
   "cell_type": "code",
   "execution_count": 3,
   "metadata": {
    "ExecuteTime": {
     "end_time": "2020-03-12T10:37:45.871588Z",
     "start_time": "2020-03-12T10:37:45.850078Z"
    }
   },
   "outputs": [
    {
     "name": "stdout",
     "output_type": "stream",
     "text": [
      "jellyfish : No Issues.......\n",
      "time: 2.05 ms\n"
     ]
    }
   ],
   "source": [
    "if jellyfish.metaphone(u'Jellyfish') == 'JLFX' :\n",
    "    print('jellyfish : No Issues.......')\n",
    "else:\n",
    "    print('jellyfish : Problem.......')"
   ]
  },
  {
   "cell_type": "markdown",
   "metadata": {},
   "source": [
    "# nlpnet"
   ]
  },
  {
   "cell_type": "code",
   "execution_count": 52,
   "metadata": {
    "ExecuteTime": {
     "end_time": "2020-03-12T11:43:35.894391Z",
     "start_time": "2020-03-12T11:43:35.100614Z"
    }
   },
   "outputs": [
    {
     "name": "stdout",
     "output_type": "stream",
     "text": [
      "textacy : No issues.......\n",
      "time: 780 ms\n"
     ]
    }
   ],
   "source": [
    "tagger = nlpnet.POSTagger(os. getcwd() + '/pos-pt/', language='pt')\n",
    "t = tagger.tag('O rato roeu a roupa do rei de Roma.')\n",
    "if len(t) == 0 :\n",
    "    print('textacy : Problem.......')\n",
    "else:\n",
    "    print('textacy : No issues.......')"
   ]
  },
  {
   "cell_type": "markdown",
   "metadata": {
    "ExecuteTime": {
     "end_time": "2020-03-12T09:30:27.683992Z",
     "start_time": "2020-03-12T09:30:26.847659Z"
    }
   },
   "source": [
    "# textacy"
   ]
  },
  {
   "cell_type": "code",
   "execution_count": null,
   "metadata": {
    "ExecuteTime": {
     "end_time": "2020-03-12T09:33:49.151914Z",
     "start_time": "2020-03-12T09:33:48.300932Z"
    }
   },
   "outputs": [],
   "source": [
    "cw = textacy.datasets.CapitolWords()\n",
    "cw.download()\n",
    "records = cw.records(speaker_name={'Hillary Clinton', 'Barack Obama'})\n",
    "if records == ' ':\n",
    "    print('textacy : Problem.......')\n",
    "else:\n",
    "    print('textacy : No issues.......')"
   ]
  },
  {
   "cell_type": "markdown",
   "metadata": {},
   "source": [
    "# flair"
   ]
  },
  {
   "cell_type": "code",
   "execution_count": null,
   "metadata": {
    "ExecuteTime": {
     "end_time": "2020-03-11T14:38:53.803463Z",
     "start_time": "2020-03-11T14:38:53.784910Z"
    }
   },
   "outputs": [],
   "source": [
    "def p_flair():\n",
    "    # make a sentence\n",
    "    sentence = Sentence('I love Berlin .')\n",
    "    ###################################\n",
    "    if sentence == ' ':\n",
    "        print('flair : Problem.......')\n",
    "    else:\n",
    "        print('flair : No issues.......')"
   ]
  },
  {
   "cell_type": "code",
   "execution_count": null,
   "metadata": {
    "ExecuteTime": {
     "end_time": "2020-03-11T14:38:54.671729Z",
     "start_time": "2020-03-11T14:38:54.657396Z"
    }
   },
   "outputs": [],
   "source": [
    "p_flair()"
   ]
  },
  {
   "cell_type": "markdown",
   "metadata": {},
   "source": [
    "# textblob"
   ]
  },
  {
   "cell_type": "code",
   "execution_count": null,
   "metadata": {
    "ExecuteTime": {
     "end_time": "2020-03-11T13:56:44.333802Z",
     "start_time": "2020-03-11T13:56:44.319266Z"
    }
   },
   "outputs": [],
   "source": [
    "def p_textblob():\n",
    "    document = (\"In computer science, artificial intelligence (AI), \\\n",
    "            sometimes called machine intelligence, is intelligence \\\n",
    "            demonstrated by machines, in contrast to the natural intelligence \\\n",
    "            displayed by humans and animals. Computer science defines AI \\\n",
    "            research as the study of \\\"intelligent agents\\\": any device that \")\n",
    "    text_blob_object = TextBlob(document)\n",
    "    document_sentence = text_blob_object.sentences\n",
    "    \n",
    "    if document_sentence == ' ':\n",
    "        print('textblob : Problem.......')\n",
    "    else:\n",
    "        print('textblob : No issues.......')"
   ]
  },
  {
   "cell_type": "code",
   "execution_count": null,
   "metadata": {
    "ExecuteTime": {
     "end_time": "2020-03-11T13:56:44.710759Z",
     "start_time": "2020-03-11T13:56:44.695212Z"
    }
   },
   "outputs": [],
   "source": [
    "p_textblob()"
   ]
  },
  {
   "cell_type": "markdown",
   "metadata": {},
   "source": [
    "# spacy"
   ]
  },
  {
   "cell_type": "code",
   "execution_count": null,
   "metadata": {
    "ExecuteTime": {
     "end_time": "2020-03-11T13:50:27.813582Z",
     "start_time": "2020-03-11T13:50:27.798687Z"
    }
   },
   "outputs": [],
   "source": [
    "def p_spacy():\n",
    "    # !python -m spacy download en_core_web_sm\n",
    "    nlp = en_core_web_sm.load()\n",
    "    doc = nlp(\"This is a sentence.\")\n",
    "    if doc == ' ':\n",
    "        print('spacy : Problem.......')\n",
    "    else:\n",
    "        print('spacy : No issues.......')"
   ]
  },
  {
   "cell_type": "code",
   "execution_count": null,
   "metadata": {
    "ExecuteTime": {
     "end_time": "2020-03-11T13:50:30.780543Z",
     "start_time": "2020-03-11T13:50:30.570743Z"
    }
   },
   "outputs": [],
   "source": [
    "p_spacy()"
   ]
  },
  {
   "cell_type": "markdown",
   "metadata": {},
   "source": [
    "# gensim"
   ]
  },
  {
   "cell_type": "code",
   "execution_count": null,
   "metadata": {
    "ExecuteTime": {
     "end_time": "2020-03-11T13:12:39.440735Z",
     "start_time": "2020-03-11T13:12:38.178189Z"
    }
   },
   "outputs": [],
   "source": [
    "def p_gensim(documents):\n",
    "    # Tokenize(split) the sentences into words\n",
    "    texts = [[text for text in doc.split()] for doc in documents]\n",
    "    # Create dictionary\n",
    "    dictionary = corpora.Dictionary(texts)\n",
    "    if dictionary == ' ':\n",
    "        print('gensim : Problem.......')\n",
    "    else:\n",
    "        print('gensim : No issues.......')"
   ]
  },
  {
   "cell_type": "code",
   "execution_count": null,
   "metadata": {
    "ExecuteTime": {
     "end_time": "2020-03-11T13:12:39.636423Z",
     "start_time": "2020-03-11T13:12:39.448404Z"
    }
   },
   "outputs": [],
   "source": [
    "# How to create a dictionary from a list of sentences?\n",
    "documents = [\"The Saudis are preparing a report that will acknowledge that\", \n",
    "             \"Saudi journalist Jamal Khashoggi's death was the result of an\", \n",
    "             \"interrogation that went wrong, one that was intended to lead\", \n",
    "             \"to his abduction from Turkey, according to two sources.\"]\n",
    "\n",
    "p_gensim(documents)"
   ]
  },
  {
   "cell_type": "markdown",
   "metadata": {},
   "source": [
    "# readability"
   ]
  },
  {
   "cell_type": "code",
   "execution_count": null,
   "metadata": {
    "ExecuteTime": {
     "end_time": "2020-03-11T12:35:18.961378Z",
     "start_time": "2020-03-11T12:35:18.949412Z"
    }
   },
   "outputs": [],
   "source": [
    "def p_readability(text):\n",
    "\n",
    "    text = (text)\n",
    "    results = readability.getmeasures(text, lang='en')\n",
    "    print('readability : No issues.......')\n",
    "    \n",
    "    "
   ]
  },
  {
   "cell_type": "code",
   "execution_count": null,
   "metadata": {
    "ExecuteTime": {
     "end_time": "2020-03-11T12:35:19.717816Z",
     "start_time": "2020-03-11T12:35:19.702407Z"
    }
   },
   "outputs": [],
   "source": [
    "p_readability('This is an example sentence .Note that tokens are separated by spaces and sentences by newlines .\\n')"
   ]
  },
  {
   "cell_type": "markdown",
   "metadata": {},
   "source": [
    "# pydub"
   ]
  },
  {
   "cell_type": "code",
   "execution_count": null,
   "metadata": {
    "ExecuteTime": {
     "end_time": "2020-03-12T10:27:18.694326Z",
     "start_time": "2020-03-12T10:27:18.670174Z"
    }
   },
   "outputs": [],
   "source": [
    "def p_pydub(song_location):\n",
    "    song = AudioSegment.from_mp3(song_location ) # \"Rick Astley Never gonna give you up .mp3\")\n",
    "    # pydub does things in miliseconds\n",
    "    ten_seconds = 10 * 1000\n",
    "\n",
    "    first_10_seconds = song[:100000]\n",
    "\n",
    "    last_5_seconds = song[-50000:]\n",
    "    # boost volume by 6dB\n",
    "    beginning = first_10_seconds + 6\n",
    "\n",
    "    # reduce volume by 3dB\n",
    "    end = last_5_seconds - 3\n",
    "    without_the_middle = beginning + end\n",
    "    \n",
    "    # song is not modified\n",
    "    backwards = song.reverse()\n",
    "    \n",
    "    # 1.5 second crossfade\n",
    "    with_style = beginning.append(end, crossfade=1500)\n",
    "    \n",
    "    # repeat the clip twice\n",
    "    do_it_over = with_style * 2\n",
    "    # 2 sec fade in, 3 sec fade out\n",
    "    awesome = do_it_over.fade_in(2000).fade_out(3000)\n",
    "    print('pydub : No issues.......')"
   ]
  },
  {
   "cell_type": "code",
   "execution_count": null,
   "metadata": {
    "ExecuteTime": {
     "end_time": "2020-03-12T10:27:36.469622Z",
     "start_time": "2020-03-12T10:27:31.743639Z"
    }
   },
   "outputs": [],
   "source": [
    "p_pydub(os. getcwd() + \"/Rick Astley Never gonna give you up .mp3\")"
   ]
  },
  {
   "cell_type": "code",
   "execution_count": null,
   "metadata": {},
   "outputs": [],
   "source": []
  },
  {
   "cell_type": "code",
   "execution_count": null,
   "metadata": {},
   "outputs": [],
   "source": []
  },
  {
   "cell_type": "code",
   "execution_count": null,
   "metadata": {},
   "outputs": [],
   "source": []
  },
  {
   "cell_type": "code",
   "execution_count": null,
   "metadata": {},
   "outputs": [],
   "source": []
  },
  {
   "cell_type": "code",
   "execution_count": null,
   "metadata": {},
   "outputs": [],
   "source": []
  },
  {
   "cell_type": "code",
   "execution_count": null,
   "metadata": {},
   "outputs": [],
   "source": []
  },
  {
   "cell_type": "code",
   "execution_count": null,
   "metadata": {},
   "outputs": [],
   "source": []
  },
  {
   "cell_type": "code",
   "execution_count": null,
   "metadata": {},
   "outputs": [],
   "source": []
  }
 ],
 "metadata": {
  "kernelspec": {
   "display_name": "Python 3",
   "language": "python",
   "name": "python3"
  },
  "language_info": {
   "codemirror_mode": {
    "name": "ipython",
    "version": 3
   },
   "file_extension": ".py",
   "mimetype": "text/x-python",
   "name": "python",
   "nbconvert_exporter": "python",
   "pygments_lexer": "ipython3",
   "version": "3.7.2"
  }
 },
 "nbformat": 4,
 "nbformat_minor": 2
}
