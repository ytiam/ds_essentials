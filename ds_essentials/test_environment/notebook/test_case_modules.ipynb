{
 "cells": [
  {
   "cell_type": "code",
   "execution_count": 110,
   "metadata": {},
   "outputs": [],
   "source": [
    "import PyPDF2\n",
    "import pdfminer\n",
    "import pdfquery\n",
    "import tabula\n",
    "import docx\n",
    "\n",
    "import convertdate\n",
    "import fbprophet\n",
    "import pytesseract\n",
    "#import jellyfish\n",
    "#import dask\n",
    "#import pyarrow\n",
    "#import s3fs\n",
    "#import great_expectations\n",
    "#import io\n",
    "#---------------------------------------------------------------------------------------#\n",
    "from pdfminer.converter import TextConverter\n",
    "from pdfminer.pdfinterp import PDFPageInterpreter\n",
    "from pdfminer.pdfinterp import PDFResourceManager\n",
    "from pdfminer.pdfpage import PDFPage\n",
    "from tabula import read_pdf\n",
    "from docx import Document\n",
    "import boto3\n",
    "from convertdate import french_republican\n",
    "from convertdate import hebrew\n",
    "from pytesseract import image_to_string\n",
    "from PIL import Image, ImageFilter"
   ]
  },
  {
   "cell_type": "code",
   "execution_count": 111,
   "metadata": {},
   "outputs": [],
   "source": [
    "input_path = '/home/madhumala/Projects/test_fn_ML_libraries/input/'\n",
    "outputpath = '/home/madhumala/Projects/test_fn_ML_libraries/output/'"
   ]
  },
  {
   "cell_type": "code",
   "execution_count": 112,
   "metadata": {},
   "outputs": [],
   "source": [
    "def pypdf2(pdf):\n",
    "    # creating a pdf file object \n",
    "    pdfFileObj = open(pdf, 'rb') \n",
    "\n",
    "    # creating a pdf reader object \n",
    "    pdfReader = PyPDF2.PdfFileReader(pdfFileObj) \n",
    "\n",
    "    # printing number of pages in pdf file \n",
    "    print(pdfReader.numPages) \n",
    "\n",
    "    # creating a page object \n",
    "    pageObj = pdfReader.getPage(0) \n",
    "\n",
    "    # extracting text from page \n",
    "    print(pageObj.extractText()) \n",
    "\n",
    "    # closing the pdf file object \n",
    "    pdfFileObj.close() \n",
    "    "
   ]
  },
  {
   "cell_type": "code",
   "execution_count": 113,
   "metadata": {},
   "outputs": [],
   "source": [
    "def pdfminer_extract_text_from_pdf(pdf_path):\n",
    "    resource_manager = PDFResourceManager()\n",
    "    fake_file_handle = io.StringIO()\n",
    "    converter = TextConverter(resource_manager, fake_file_handle)\n",
    "    page_interpreter = PDFPageInterpreter(resource_manager, converter)\n",
    "    \n",
    "    with open(pdf_path, 'rb') as fh:\n",
    "        for page in PDFPage.get_pages(fh, \n",
    "                                      caching=True,\n",
    "                                      check_extractable=True):\n",
    "            page_interpreter.process_page(page)\n",
    "            \n",
    "        text = fake_file_handle.getvalue()\n",
    "    \n",
    "    # close open handles\n",
    "    converter.close()\n",
    "    fake_file_handle.close()\n",
    "    if text:\n",
    "        return text\n",
    "    \n"
   ]
  },
  {
   "cell_type": "code",
   "execution_count": 114,
   "metadata": {},
   "outputs": [],
   "source": [
    "def pdfquery_extract_text_from_pdf(pdf_path):\n",
    "    pdf = pdfquery.PDFQuery(pdf_path)\n",
    "    pdf.load()\n",
    "    pdf.tree\n",
    "    return pdf.tree"
   ]
  },
  {
   "cell_type": "code",
   "execution_count": 115,
   "metadata": {},
   "outputs": [],
   "source": [
    "def tabula(pdf_path):\n",
    "    pdf = read_pdf(pdf_path)\n",
    "    return pdf"
   ]
  },
  {
   "cell_type": "code",
   "execution_count": 116,
   "metadata": {},
   "outputs": [],
   "source": [
    "def addtext_to_docx():\n",
    "    \"\"\"    add paragraph to a document format (.docx)\n",
    "    \"\"\"\n",
    "    document = Document()\n",
    "    paragraph = document.add_paragraph('Lorem ipsum dolor sit amet.')\n",
    "    return paragraph"
   ]
  },
  {
   "cell_type": "code",
   "execution_count": 117,
   "metadata": {},
   "outputs": [],
   "source": [
    "def convertdate():\n",
    "    print(french_republican.from_gregorian(2014, 10, 31))\n",
    "    print(hebrew.from_gregorian(2014, 10, 31))"
   ]
  },
  {
   "cell_type": "code",
   "execution_count": 118,
   "metadata": {},
   "outputs": [],
   "source": [
    "def pytesseractText(filePath):\n",
    "    text = pytesseract.image_to_string(Image.open(filePath))\n",
    "    print(text)"
   ]
  },
  {
   "cell_type": "code",
   "execution_count": 119,
   "metadata": {},
   "outputs": [],
   "source": [
    "def fn_parquet(path):\n",
    "    with fs.open(path, 'wb') as f:\n",
    "        pq.write_parquet(table, f)"
   ]
  },
  {
   "cell_type": "code",
   "execution_count": null,
   "metadata": {},
   "outputs": [],
   "source": []
  },
  {
   "cell_type": "code",
   "execution_count": 120,
   "metadata": {},
   "outputs": [
    {
     "name": "stdout",
     "output_type": "stream",
     "text": [
      "<docx.text.paragraph.Paragraph object at 0x7f4581cc49d0>\n",
      "Pro TO WRITE ALT |\n",
      "TEXT AND IMAGE\n",
      "DESCRIPTIONS FOR\n",
      "\n",
      "THE VISUALLY\n",
      "IMPAIRED\n"
     ]
    }
   ],
   "source": [
    "if __name__ == '__main__':\n",
    "    path_to_pdf = '/home/madhumala/Projects/test_fn_ML_libraries/input/sample.pdf'\n",
    "    filePath  = '/home/madhumala/Projects/test_fn_ML_libraries/input/text.jpeg'\n",
    "    #print(extract_text_from_pdf(path_to_pdf))\n",
    "    #print(pypdf2(path_to_pdf))\n",
    "    #print(pdfquery_extract_text_from_pdf(path_to_pdf))\n",
    "    #print(tabula)\n",
    "    para = addtext_to_docx()\n",
    "    print(para)\n",
    "    #convertdate()\n",
    "    pytesseractText(filePath)\n",
    "    #fn_parquet('/home/madhumala/Projects/test_fn_ML_libraries/input/')\n"
   ]
  },
  {
   "cell_type": "code",
   "execution_count": null,
   "metadata": {},
   "outputs": [],
   "source": []
  },
  {
   "cell_type": "code",
   "execution_count": null,
   "metadata": {},
   "outputs": [],
   "source": []
  },
  {
   "cell_type": "code",
   "execution_count": null,
   "metadata": {},
   "outputs": [],
   "source": []
  },
  {
   "cell_type": "code",
   "execution_count": null,
   "metadata": {},
   "outputs": [],
   "source": []
  }
 ],
 "metadata": {
  "kernelspec": {
   "display_name": "Python 3",
   "language": "python",
   "name": "python3"
  },
  "language_info": {
   "codemirror_mode": {
    "name": "ipython",
    "version": 3
   },
   "file_extension": ".py",
   "mimetype": "text/x-python",
   "name": "python",
   "nbconvert_exporter": "python",
   "pygments_lexer": "ipython3",
   "version": "3.7.6"
  }
 },
 "nbformat": 4,
 "nbformat_minor": 4
}
