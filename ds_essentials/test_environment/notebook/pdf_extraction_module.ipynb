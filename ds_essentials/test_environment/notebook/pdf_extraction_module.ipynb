{
 "cells": [
  {
   "cell_type": "code",
   "execution_count": 1,
   "metadata": {},
   "outputs": [],
   "source": [
    "import pandas as pd"
   ]
  },
  {
   "cell_type": "code",
   "execution_count": 3,
   "metadata": {},
   "outputs": [],
   "source": [
    "# pip install PyPDF2\n",
    "# pip install pdfquery\n",
    "# pip install tabula-py\n",
    "# pip install python-docx\n",
    "# pip install textract\n",
    "# pip install pdftotext"
   ]
  },
  {
   "cell_type": "markdown",
   "metadata": {},
   "source": [
    "# PyPDF2"
   ]
  },
  {
   "cell_type": "code",
   "execution_count": 12,
   "metadata": {},
   "outputs": [
    {
     "name": "stdout",
     "output_type": "stream",
     "text": [
      "19\n"
     ]
    },
    {
     "data": {
      "text/plain": [
       "'OOFFFFIICCIIAALL  BBOOAARRDD  MMIINNUUTTEESS   Meeting of \\nMarch 7\\n, 2014\\n        \\n     The Board of Elementary and Secondary Education shall provide leadership and \\ncreate policies for education that expand opportunities for children, empower \\nfamilies and communities, and advance Louisiana in an increasingly \\ncompetitive glob\\nal market.\\n BOARD \\n of ELEMENTARY\\n and \\n SECONDARY\\n EDUCATION\\n  '"
      ]
     },
     "execution_count": 12,
     "metadata": {},
     "output_type": "execute_result"
    }
   ],
   "source": [
    "import PyPDF2\n",
    "\n",
    "pdfFileObj = open('meetingminutes.pdf', 'rb')\n",
    "pdfReader = PyPDF2.PdfFileReader(pdfFileObj)\n",
    "print(pdfReader.numPages)\n",
    "pageObj = pdfReader.getPage(0)\n",
    "pageObj.extractText()"
   ]
  },
  {
   "cell_type": "markdown",
   "metadata": {},
   "source": [
    "# pdftotext"
   ]
  },
  {
   "cell_type": "code",
   "execution_count": 54,
   "metadata": {},
   "outputs": [],
   "source": [
    "import pdftotext\n",
    " \n",
    "# Load your PDF\n",
    "with open(\"meetingminutes.pdf\", \"rb\") as f:\n",
    "    pdf = pdftotext.PDF(f)"
   ]
  },
  {
   "cell_type": "markdown",
   "metadata": {},
   "source": [
    "# pdfquery"
   ]
  },
  {
   "cell_type": "code",
   "execution_count": 51,
   "metadata": {},
   "outputs": [
    {
     "data": {
      "text/plain": [
       "'Patient Name: John Jacob'"
      ]
     },
     "execution_count": 51,
     "metadata": {},
     "output_type": "execute_result"
    }
   ],
   "source": [
    "import pdfquery\n",
    "pdf = pdfquery.PDFQuery('samplepdf1.pdf')\n",
    "pdf.load()\n",
    "pdf.tree.write('samplepdf1.xml', pretty_print=True)\n",
    "patient_name = pdf.pq('LTTextLineHorizontal:in_bbox(\"72.0, 543.657, 205.474, 554.657\")').text()\n",
    "patient_name"
   ]
  },
  {
   "cell_type": "markdown",
   "metadata": {},
   "source": [
    "# textract"
   ]
  },
  {
   "cell_type": "code",
   "execution_count": 13,
   "metadata": {},
   "outputs": [
    {
     "data": {
      "text/plain": [
       "b\"BOARD\\nof\\nELEMENTARY\\nand\\nSECONDARY\\nEDUCATION\\nThe Board of Elementary and Secondary Education shall provide leadership and\\ncreate policies for education that expand opportunities for children, empower\\nfamilies and communities, and advance Louisiana in an increasingly\\ncompetitive global market.\\n\\nOFFICIAL BOARD MINUTES\\nMeeting of March 7, 2014\\n\\n\\x0cLOUISIANA STATE BOARD OF ELEMENTARY AND SECONDARY EDUCATION\\nMARCH 7, 2014\\nThe Louisiana Purchase Room\\nBaton Rouge, LA\\n\\nThe Louisiana State Board of Elementary and Secondary Education met in regular\\nsession on March 7, 2014, in the Louisiana Purchase Room, located in the Claiborne\\nBuilding in Baton Rouge, Louisiana. The meeting was called to order at 9:17 a.m. by\\nBoard President Chas Roemer and opened with a prayer by Ms. Terry Johnson, Bossier\\nParish School System.\\nBoard members present were Dr. Lottie Beebe, Ms. Holly Boffy, Mr. Jim Garvey, Mr. Jay\\nGuillot, Ms. Carolyn Hill, Mr. Walter Lee, Dr. Judith Miranti, Mr. Chas Roemer, and\\nMs. Jane Smith.\\nMs. Connie Bradford and Ms. Kira Orange Jones were absent.\\nDr. Charlie Michel, Lafourche Parish School System, led the Pledge of Allegiance.\\nAgenda\\nItem 2.\\n\\nOn motion of Mr. Garvey, seconded by Ms. Boffy, the Board approved the\\nagenda, as printed and disseminated.\\n(Schedule 1)\\n\\nAgenda\\nItem 3.\\n\\nOn motion of Ms. Smith, seconded by Ms. Boffy, the Board approved the\\nminutes of January 15, 2014.\\n\\nAgenda\\nItem 4.\\n\\nReport by the State Superintendent of Education\\nState Superintendent of Education John White provided an update on the\\nintense and increased support that the LDE is providing to teachers to\\nassist with new academic expectations. The LDE has established the\\nfollowing support structures: (1) network teams are working directly with\\nsuperintendents; (2) district planning teams and district planning guides\\nhave been established in every district; and (3) teacher leader teams are\\ndoubling to 4,000 next year. Sample test items are being released. The\\ncurriculum package for next year is being released. Next year\\xe2\\x80\\x99s\\nassessment guides will be produced in the following weeks.\\n\\n\\x0cBOARD MINUTES\\n\\n-2-\\n\\nMARCH 7, 2014\\n\\n**********\\nOn Point of Personal Privilege, Ms. Hill recognized the Capitol Senior\\nHigh School Alumni Association for its dedication to the school and its\\nstudents throughout several transitions, and presented a Certificate of\\nAppreciation to Mr. W. T. Winfield.\\nAgenda\\nItem 5.\\n\\nBoard Committee Reports\\n\\nAgenda\\nItem 5.1.\\n\\nAcademic Goals and Instructional Improvement Committee\\n(Schedule 2)\\n\\n5.1.1\\n\\nOn motion of Dr. Miranti, seconded by Mr. Lee, the Board received the\\nminutes of the Accountability Commission meetings held January 9, 2014,\\nand January 27, 2014.\\n\\n5.1.2\\n\\nOn motion of Dr. Miranti, seconded by Mr. Lee, the Board received the\\nminutes of the Special Education Advisory Panel meeting held\\nFebruary 20, 2014.\\n\\n5.1.3\\n\\nOn motion of Dr. Beebe, seconded by Mr. Garvey, the Board approved,\\nas a Notice of Intent, revisions to Bulletin 119, Louisiana School\\nTransportation Specifications and Procedures: \\xc2\\xa72509. Used School\\nBuses, as amended and presented by the LDE.\\n**********\\nPublic comments were received on the following Academic Goals and\\nInstructional Improvement Committee agenda item:\\nAgenda Item 3.2., \\xe2\\x80\\x9cConsideration of policy recommendations relative to\\nthe implementation of the Jump Start career education program.\\xe2\\x80\\x9d\\nSupport: None.\\nOppose: None.\\nInformation Only/Other: Ms. Debra Schum, Louisiana Association\\nof Principals.\\n\\n\\x0cBOARD MINUTES\\n\\n5.1.4\\n\\n-3-\\n\\nMARCH 7, 2014\\n\\nOn motion of Dr. Miranti, seconded by Mr. Lee, the Board approved, as a\\nNotice of Intent, the creation of Bulletin 138, Jump Start Program: \\xc2\\xa7101.\\nOverview, \\xc2\\xa7201. Jump Start Program Authorization, \\xc2\\xa7301. General\\nProvisions, and \\xc2\\xa7303. Jump Start Instructional Staff, as presented by the\\nLDE.\\nFurther, the Board approved, as a Notice of Intent, the creation of \\xc2\\xa7305.\\nStudent Participation in Jump Start Programs, as amended and\\npresented.\\n\\n5.1.5\\n\\nOn motion of Dr. Miranti, seconded by Mr. Lee, the Board approved, as a\\nNotice of Intent, revisions to Bulletin 111, The Louisiana School, District,\\nand State Accountability System: \\xc2\\xa7409. Calculating a 9-12 Assessment\\nIndex, and \\xc2\\xa7613. Calculating a Graduation Index, as presented by the\\nLDE.\\n\\n5.1.6\\n\\nOn motion of Dr. Miranti, seconded by Mr. Lee, the Board approved, as a\\nNotice of Intent, revisions to Bulletin 746, Louisiana Standards for State\\nCertification of School Personnel: \\xc2\\xa7501. Introduction; adding a new\\n\\xc2\\xa7505. Career and Technical Certificate Types Issued after September 1,\\n2014; renumbering and renaming the original \\xc2\\xa7505. to \\xc2\\xa7506. CTTIE-1\\nand CTTIE-2 Certificate Eligibility Requirements; adding a new \\xc2\\xa7507.\\nCTTIE Areas of Specialization; renumbering and renaming the original\\n\\xc2\\xa7507. to \\xc2\\xa7509. CTTIE-1 Certificates Renewal Guidelines for certificates\\ninitially issued prior to September 1, 2014; deleting the original \\xc2\\xa7509.\\nCTTIE-2 Certificates Renewal Guidelines; and \\xc2\\xa7511. Process for\\nReinstating Lapsed CTTIE Certificates, as presented by the LDE.\\nFurther, the Board approved, as a Notice of Intent, revisions to \\xc2\\xa7504.\\nCareer and Technical Certificate Types Issued after July 1, 2006, as\\namended and presented.\\n\\n5.1.7\\n\\nOn motion of Dr. Miranti, seconded by Mr. Lee, the Board approved, as a\\nNotice of Intent, revisions to Bulletin 118, Statewide Assessment\\nStandards and Practices: \\xc2\\xa7701. Overview of Assessment Programs in\\nLouisiana, \\xc2\\xa72209. WorkKeys, and \\xc2\\xa73501. Approved Home Study\\nProgram Students, as presented by the LDE.\\n\\n5.1.8\\n\\nOn motion of Dr. Miranti, seconded by Mr. Lee, the Board approved, as a\\nNotice of Intent, revisions to Bulletin 741, Louisiana Handbook for School\\nAdministrators: \\xc2\\xa72317. High Schools and \\xc2\\xa72318. The College Diploma,\\nas presented by the LDE.\\n\\n\\x0cBOARD MINUTES\\n\\n-4-\\n\\nMARCH 7, 2014\\n\\n5.1.9\\n\\nOn motion of Dr. Miranti, seconded by Mr. Lee, the Board approved, as a\\nNotice of Intent, revisions to Bulletin 1566, Pupil Progression Policies and\\nProcedures: \\xc2\\xa7503. Regular Placement, as presented by the LDE.\\n\\n5.1.10\\n\\nOn motion of Dr. Miranti, seconded by Mr. Lee, the Board approved, as a\\nNotice of Intent, revisions to Bulletin 111, The Louisiana School, District,\\nand State Accountability System: \\xc2\\xa7301. School Performance Score Goal;\\n\\xc2\\xa7303. Transition from Fall 2013 to Spring 2015; \\xc2\\xa7413. Dropout/Credit\\nAccumulation Index Calculations; \\xc2\\xa7517. Inclusion of Schools; \\xc2\\xa7521.\\nPairing/Sharing of Schools with Insufficient Test Data; \\xc2\\xa7603. Determining\\na Cohort for a Graduation; \\xc2\\xa7611. Documenting a Graduation Index;\\n\\xc2\\xa71301.\\nReward\\nEligibility;\\n\\xc2\\xa72301.\\nSchools\\nRequiring\\nReconstitution/Alternate Governance Plans; \\xc2\\xa73101. Appeals/Waivers and\\nData Certification Processes; \\xc2\\xa73301. Inclusion of New Schools; \\xc2\\xa73303.\\nReconfigured Schools; \\xc2\\xa74101. Valid Data Considerations; \\xc2\\xa74301.\\nInclusion of All Districts; and \\xc2\\xa74317. District Accountability Data\\nCorrections, as presented by the LDE.\\nDr. Beebe was recorded as being opposed to the motion.\\n\\n5.1.11\\n\\nOn motion of Dr. Miranti, seconded by Mr. Lee, the Board received the\\nSummary of Public Comments and Agency Response regarding revisions\\nto Bulletin 135, Health and Safety: Chapter 5. Injury Management\\nProgram Rules for Serious Sports Injuries and Chapter 7: Glossary, and\\ndirected BESE staff to proceed with the final adoption of the January 20,\\n2014, Notice of Intent regarding revisions to Bulletin 135, Health and\\nSafety, Chapters 5 and 7.\\n\\nAgenda\\nItem 5.2.\\n\\nAdministration and Finance Committee\\n\\n5.2.1\\n\\nOn motion of Mr. Guillot, seconded by Mr. Lee, the Board received the\\nreport on 8(g) monitoring visits conducted by Board staff.\\n\\n5.2.2\\n\\nOn motion of Mr. Guillot, seconded by Mr. Lee, the Board received the\\nquarterly report from the LDE Director of Internal Audit.\\n\\n5.2.3\\n\\nOn motion of Mr. Guillot, seconded by Mr. Lee, the Board received the\\nreport on LDE contracts of $50,000 and under approved by the State\\nSuperintendent of Education.\\n\\n(Schedule 3)\\n\\n\\x0cBOARD MINUTES\\n\\n-5-\\n\\nMARCH 7, 2014\\n\\n5.2.4\\n\\nOn motion of Mr. Guillot, seconded by Mr. Lee, the Board received the\\nreports requested by the Minimum Foundation Program (MFP) Task\\nForce pertaining to the regulations governing students with dyslexia and\\nstudent access to technology.\\n\\n5.2.5\\n\\nOn motion of Mr. Guillot, seconded by Mr. Lee, the Board ratified the\\nBoard President's submission of the value-added assessment model\\nreport to the House Committee on Education and the Senate Committee\\non Education.\\n**********\\nPublic comments were received on the following Administration and\\nFinance Committee agenda item:\\nAgenda Item 4.1., \\xe2\\x80\\x9cConsideration of the Minimum Foundation Program\\n(MFP) Formula for FY 2014-2015.\\xe2\\x80\\x9d\\nSupport: None.\\nOppose: None.\\nInformation Only/Other: Mr. Shawn\\nDevelopmental Disabilities Council.\\n\\nFleming,\\n\\nLouisiana\\n\\n5.2.6\\n\\nOn motion of Mr. Guillot, seconded by Mr. Garvey, the Board deferred\\nuntil a Special Board Meeting to be held during the week of March 10-14,\\n2014: \\xe2\\x80\\x9cConsideration of the Minimum Foundation Program (MFP)\\nFormula for FY 2014-2015.\\xe2\\x80\\x9d\\n\\n5.2.7\\n\\nOn motion of Mr. Guillot, seconded by Mr. Lee, the Board, in recognition\\nthat the proposed 2014-2015 MFP formula does not include funding for\\nearly childhood education, committed to developing a strategy of\\nequitable early childhood education funding in future fiscal years and\\nsupports legislation throughout the 2014 Regular Legislative Session that\\nallows for the consideration of 4-year-old pre-kindergarten education as a\\ncomponent of elementary and secondary education.\\n\\n5.2.8\\n\\nOn motion of Mr. Guillot, seconded by Mr. Lee, the Board approved the\\nrevised 8(g) program and budget for FY 2013-2014.\\nDr. Beebe recused herself from voting on this item.\\n\\n\\x0cBOARD MINUTES\\n\\n5.2.9\\n\\n-6-\\n\\nMARCH 7, 2014\\n\\nOn motion of Mr. Guillot, seconded by Mr. Lee, the Board approved the\\nrevised program and budget for the 8(g) statewide program, Early\\nChildhood Literacy Program (LDE) (S069), for FY 2013-2014.\\nDr. Beebe recused herself from voting on this item.\\n\\n5.2.10\\n\\nOn motion of Mr. Guillot, seconded by Mr. Lee, the Board approved the\\nrevised program and budget for the 8(g) statewide program, Compass\\n(LDE) (S067), for FY 2013-2014.\\nDr. Beebe was recorded as being opposed to the motion.\\n\\n5.2.11\\n\\nOn motion of Mr. Guillot, seconded by Mr. Lee, the Board approved the\\nrevised program and budget for the 8(g) statewide program, Expanding\\nHigh School Choice (LDE) (S073), for FY 2013-2014.\\nDr. Beebe recused herself from voting on this item.\\n\\n5.2.12\\n\\nOn motion of Mr. Guillot, seconded by Mr. Lee, the Board approved the\\nrevised program and budget for the 8(g) statewide program, New Schools\\nIncubation Program (LDE) (S074), for FY 2013-2014.\\nDr. Beebe and Ms. Hill were recorded as being opposed to the motion.\\nSchool and District Innovations - Other\\n\\n5.2.13\\n\\nOn motion of Mr. Guillot, seconded by Mr. Lee, the Board approved the\\nfollowing allocation:\\nAllocation:\\nAmount:\\nFunding Period:\\nSource of Funds:\\n\\nRSD Charter School Transformation\\n$250,000.00\\n07/01/2013 - 06/30/2014\\nIAT - 8(g)\\n\\nPurpose: The purpose of these funds is to support RSD transformation\\nactivities.\\nBasis of Allocation: The LDE supports the efforts of the RSD to create an\\nenvironment with the conditions necessary for charter schools to succeed\\nand to support the transformation process for low-performing schools.\\n(Motion continues on page 7)\\n\\n\\x0cBOARD MINUTES\\n\\n-7-\\n\\nMARCH 7, 2014\\n\\nFunds may be used to provide professional development, stabilize school\\nstaffing during the transformation process, provide for additional staffing\\nresources needed to successfully transition a direct-run school to a charter\\nschool, and other activities that support the development of a high\\nperforming charter school environment.\\nDr. Beebe recused herself from voting on this item.\\nDepartmental Support - Other\\n5.2.14\\n\\nOn motion of Mr. Guillot, seconded by Mr. Lee, the Board approved the\\nfollowing allocation:\\nAllocation:\\nAmount:\\nFunding Period:\\nSource of Funds:\\n\\nEducator Leader Cadre Substitute Reimbursement\\n$1,893.36\\n10/01/2013 - 12/13/2014\\nFederal\\n\\nPurpose: The purpose of the Teacher Leader Advisors is to develop an\\nunderstanding of the changes required of Common Core and Compass,\\nincluding reviewing and creating materials for implementation, serving as\\na Common Core expert, assisting in building a growing network of teacher\\nleaders throughout the state, and attending face-to-face meetings to\\nprovide recommendations and feedback on resources and tools.\\nBasis of Allocation: Allocations to school districts are to reimburse the\\ndistricts for the substitutes paid to work while the Teacher Leader\\nAdvisors met in Baton Rouge on October 15-16, 2013, and December 13,\\n2013, to begin their work for the program.\\nDr. Beebe recused herself from voting on this item.\\n5.2.15\\n\\nOffice of Management and Finance \\xe2\\x80\\x93 Competitive\\nOn motion of Mr. Guillot, seconded by Mr. Lee, the Board approved the\\nfollowing allocation:\\nAllocation:\\nAmount:\\nFunding Period:\\nSource of Funds:\\n\\nEarly Childhood Community Network Pilots\\n$676,666.67\\n03/08/2014 - 06/30/2014\\nState - IAT\\n\\n(Motion continues on page 8)\\n\\n\\x0cBOARD MINUTES\\n\\n-8-\\n\\nMARCH 7, 2014\\n\\nPurpose: The purpose of these funds is to support Early Childhood\\nCommunity Network Pilots to implement the five strategies outlined in the\\nEarly Childhood Care and Education Network - Roadmap to 2015, which\\nare as follows:\\n1.\\n2.\\n3.\\n4.\\n5.\\n\\nUnify expectations;\\nSupport teachers and providers;\\nMeasure and recognize progress;\\nFund high quality providers; and\\nProvide clear information and high quality choices.\\n\\nThe ultimate goal of the Early Childhood Care and Education Network is\\nto prepare our youngest learners for kindergarten.\\nBasis of Allocation: Allocations were determined competitively via a\\nrequest for applications. The selection of the Community Network Pilots\\noccurred through a two-step process \\xe2\\x80\\x93 1. Application review for basic\\nrequirements and 2. Interview with the finalists. The interview sought to\\ndetermine networks that could demonstrate their readiness to work on the\\nfive strategies listed above.\\nDr. Beebe recused herself from voting on this item.\\n5.2.16\\n\\nOn motion of Mr. Guillot, seconded by Mr. Lee, the Board approved the\\nfollowing LDE contract:\\nContractor:\\nContract Period:\\nContract Amount:\\nFund:\\nCompetitive Process:\\n\\nLSU-Health Science Center\\n01/31/2014 - 09/30/2014\\n$102,734.00\\nFederal Fund - IDEA Part B\\nNon Competitive\\n\\nDescription of Service: This agreement will provide for activities for the\\nfederally funded 2008-2013 Deaf Blind Project for which funding was\\nextended through 9/30/14 to be completed. Activities will include building\\ncapacity of current and future educators working with students who are\\ndeaf-blind, facilitation of effective instructional strategies for students with\\ndeaf-blindness, and outreach and early intervention identification for\\nfamilies and service providers.\\n\\n\\x0cBOARD MINUTES\\n\\n5.2.17\\n\\n-9-\\n\\nMARCH 7, 2014\\n\\nOn motion of Mr. Guillot, seconded by Mr. Lee, the Board approved the\\nfollowing LDE contract:\\nContractor:\\nContract Period:\\nContract Amount:\\nFund:\\nCompetitive Process:\\n\\nDepartment of Health and Hospitals\\n04/01/2014 - 08/31/2014\\n$196,252.00\\nFederal Funds - USDA\\nNon Competitive\\n\\nDescription of Service: This Interagency Agreement will provide that the\\nLouisiana Department of Health and Hospitals, Office of Public Health\\n(DHH), Sanitarian Services Section, conduct pre-opening inspections of\\neach food service site or preparation facility participating in the SFSP.\\nThe sanitarian services will perform at least one (1) other inspection\\n(besides the pre-opening inspection) at each site/facility during the period\\nof operation and record inspection results on the appropriate inspection\\nform.\\n5.2.18\\n\\nOn motion of Mr. Guillot, seconded by Mr. Lee, the Board approved the\\nfollowing LDE contract amendment:\\nContractor:\\nContract Period:\\nPrevious Amount:\\nAmended Amount:\\nContract Amount:\\nFund:\\nCompetitive Process:\\n\\nVolunteers of America North LA\\n07/01/2013 - 06/30/2014\\n$360,000.00\\n$38,400.00\\n$398,400.00\\nFederal - Title IV - 21st Century Community\\nLearning Centers (21st CCLC)\\nCompetitive/21st CCLC RFP Process\\n\\nDescription of Service: The contract provides before-, during-, and afterschool academic enrichment opportunities for children attending lowperforming schools through the establishment and operation of 21st\\nCentury Community Learning Centers.\\n5.2.19\\n\\nOn motion of Mr. Guillot, seconded by Mr. Lee, the Board approved the\\nfollowing LDE contract amendment:\\nContractor:\\nContract Period:\\n\\nUrban Support Agency, Inc.\\n07/01/2013 - 06/30/2014\\n\\n(Motion continues on page 10)\\n\\n\\x0cBOARD MINUTES\\nPrevious Amount:\\nAmended Amount:\\nContract Amount:\\nFund:\\nCompetitive Process:\\n\\n-10-\\n\\nMARCH 7, 2014\\n\\n$639,000.00\\n$133,800.00\\n$772,800.00\\nFederal - Title IV - 21st Century Community\\nLearning Centers (21st CCLC)\\nCompetitive/21st CCLC RFP Process\\n\\nDescription of Service: The contract provides before-, during-, and afterschool academic enrichment opportunities for children attending lowperforming schools through the establishment and operation of 21st\\nCentury Community Learning Centers.\\n5.2.20\\n\\nOn motion of Mr. Guillot, seconded by Mr. Lee, the Board approved the\\nfollowing LDE contract amendment:\\nContractor:\\nContract Period:\\nPrevious Amount:\\nAmended Amount:\\nContract Amount:\\nFund:\\nCompetitive Process:\\n\\nOutreach\\nCommunity\\nDevelopment\\nCorporation\\n07/01/2013 - 06/30/2014\\n$240,000.00\\n$6,000.00\\n$246,000.00\\nFederal - Title IV - 21st Century Community\\nLearning Centers (21st CCLC)\\nCompetitive/21st CCLC RFP Process\\n\\nDescription of Service: The contract provides before-, during-, and afterschool academic enrichment opportunities for children attending lowperforming schools through the establishment and operation of 21st\\nCentury Community Learning Centers.\\n5.2.21\\n\\nOn motion of Mr. Guillot, seconded by Mr. Lee, the Board approved the\\nfollowing LDE contract amendment:\\nContractor:\\nContract Period:\\nPrevious Amount:\\nAmended Amount:\\nContract Amount:\\nFund:\\nCompetitive Process:\\n\\nNZBC Urban Corporation\\n07/01/2013 - 06/30/2014\\n$180,000.00\\n$8,400.00\\n$188,400.00\\nFederal - Title IV - 21st Century Community\\nLearning Centers (21st CCLC)\\nCompetitive/21st CCLC RFP Process\\n\\n(Motion continues on page 11)\\n\\n\\x0cBOARD MINUTES\\n\\n-11-\\n\\nMARCH 7, 2014\\n\\nDescription of Service: The contract provides before-, during-, and afterschool academic enrichment opportunities for children attending lowperforming schools through the establishment and operation of 21st\\nCentury Community Learning Centers.\\n5.2.22\\n\\nOn motion of Mr. Guillot, seconded by Mr. Lee, the Board approved the\\nfollowing LDE contract amendment:\\nContractor:\\nContract Period:\\nPrevious Amount:\\nAmended Amount:\\nContract Amount:\\nFund:\\nCompetitive Process:\\n\\nAkili Academy/Crescent City Schools\\n07/01/2013 - 06/30/2014\\n$492,000.00\\n$74,400.00\\n$566,400.00\\nFederal - Title IV - 21st Century Community\\nLearning Centers (21st CCLC)\\nCompetitive/21st CCLC RFP Process\\n\\nDescription of Service: The contract provides before-, during-, and afterschool academic enrichment opportunities for children attending lowperforming schools through the establishment and operation of 21st\\nCentury Community Learning Centers.\\n5.2.23\\n\\nOn motion of Mr. Guillot, seconded by Mr. Lee, the Board approved the\\nfollowing LDE contract amendment:\\nContractor:\\nContract Period:\\nPrevious Amount:\\nAmended Amount:\\nContract Amount:\\nFund:\\nCompetitive Process:\\n\\nKaren Boudreaux\\n02/01/2012 - 01/31/2015\\n$79,500.00\\n$25,500.00\\n$105,000.00\\nFederal Fund - Title III\\nNon Competitive\\n\\nDescription of Service: The contract is being amended for the contractor\\nto calculate the performance of Title III subgrantee Local Education\\nAgencies (LEAs) and the state on ESEA/NCLB Title III Annual\\nMeasurable Achievement Objectives (AMAOs) for the 2013-2014 school\\nyears, using student assessment data (ELDA, LEAP, iLEAP, etc.).\\n\\n\\x0cBOARD MINUTES\\n\\n5.2.24\\n\\n-12-\\n\\nMARCH 7, 2014\\n\\nOn motion of Mr. Guillot, seconded by Mr. Lee, the Board approved the\\nfollowing RSD contract amendment:\\nContractor:\\nContract Period:\\nPrevious Amount:\\nAmended Amount:\\nContract Amount:\\nFund:\\nCompetitive Process:\\n\\nBlitch/Knevel Architects, Inc.\\n03/09/2012 - 03/09/2015\\n$1,473,321.00\\n$15,433.60\\n$1,488,754.60\\nIAT - FEMA\\nCompetitive\\n\\nDescription of Service: This amendment provides for the additional\\nservice for a Phase II environmental subsurface investigation, and a prerenovation ACM and LBP survey for Drew Elementary School renovation.\\nIt adds three (3) days to the design time due to Hurricane Isaac and\\nfourteen (14) days to design time due to historic preservation revisions.\\nThis amendment provides for reimbursable expenses for regulatory\\nagency approvals and for the printing of bidding documents.\\n5.2.25\\n\\nOn motion of Mr. Guillot, seconded by Mr. Lee, the Board approved the\\nfollowing RSD contract:\\nContractor:\\nContract Period:\\nContract Amount:\\nFund:\\nCompetitive Process:\\n\\nByron J. Stewart and Associates, APC\\nArchitects and Planners\\n03/07/2014 - 03/07/2017\\n$105,034.00\\nIAT - FEMA\\nCompetitive\\n\\nDescription of Service: This project provides for the refurbishment of\\nRosenwald Elementary School.\\n5.2.26\\n\\nOn motion of Mr. Guillot, seconded by Mr. Lee, the Board approved the\\nfollowing RSD contract amendment:\\nContractor:\\nContract Period:\\nPrevious Amount:\\nAmended Amount:\\n\\nJacobs Project Management Company/CSRS\\nConsortium\\n12/01/2013 - 11/30/2016\\n$23,590,758.00\\n$1,069,673.31\\n\\n(Motion continues on page 13)\\n\\n\\x0cBOARD MINUTES\\nContract Amount:\\nFund:\\nCompetitive Process:\\n\\n-13-\\n\\nMARCH 7, 2014\\n\\n$24,660,431.31\\nIAT - FEMA/Lexington Insurance Proceeds\\nCompetitive\\n\\nDescription of Service: This amendment provides for additional services\\nas directed by the RSD; additional service for support to RSD and \\xe2\\x80\\x9cOPSB\\nv. Lexington, et al.;\\xe2\\x80\\x9d additional service for claims consulting services; and\\nadditional service for grants management - Phase 1 - negative\\nbalance/grant debt/undocumented advances/applied payment proposal\\nfor the RSD multi-site Capital Plan.\\n5.2.27\\n\\nOn motion of Mr. Guillot, seconded by Mr. Lee, the Board approved the\\nfollowing RSD contract amendment:\\nContractor:\\nContract Period:\\nPrevious Amount:\\nAmended Amount:\\nContract Amount:\\nFund:\\nCompetitive Process:\\n\\nMahlum Scairono Martinez Architects, LLC\\n01/07/2013 - 01/07/2015\\n$35,640.00\\n$21,390.00\\n$57,030.00\\nIAT - FEMA\\nCompetitive\\n\\nDescription of Service: This amendment provides for the relocation of\\nplayground equipment at William Fischer School and the relocation of\\nplayground equipment at Little Woods Elementary School.\\n5.2.28\\n\\nOn motion of Mr. Guillot, seconded by Mr. Lee, the Board approved the\\nfollowing RSD contract amendment:\\nContractor:\\nContract Period:\\nPrevious Amount:\\nAmended Amount:\\nContract Amount:\\nFund:\\nCompetitive Process:\\n\\nRichard C Lambert, LLC\\n06/17/2010 - 06/17/2014\\n$262,656.51\\n$8,032.24\\n$270,688.75\\nIAT - FEMA\\nCompetitive\\n\\nDescription of Service: This amendment provides for the adjustment of\\nthe basic services fee for Village de L\\xe2\\x80\\x99est Elementary School (roof) and\\nmodular demo based on the final construction price of the project. It also\\nprovides for prolonged contract administration for the various roof and\\nrepair projects based on 48 days of liquidated damages at no fault of the\\ndesigner.\\n\\n\\x0cBOARD MINUTES\\n5.2.29\\n\\n-14-\\n\\nMARCH 7, 2014\\n\\nOn motion of Mr. Guillot, seconded by Mr. Lee, the Board approved the\\nfollowing RSD contract amendment:\\nContractor:\\nContract Period:\\nPrevious Amount:\\nAmended Amount:\\nContract Amount:\\nFund:\\nCompetitive Process:\\n\\nShaw Environmental and Infrastructure\\n02/14/2013 - 02/14/2015\\n$49,500.00\\n$14,640.00\\n$64,140.00\\nIAT - FEMA\\nCompetitive\\n\\nDescription of Service: This amendment provides for additional services\\nfor corrective action work plan preparation.\\n5.2.30\\n\\nOn motion of Mr. Guillot, seconded by Mr. Lee, the Board approved the\\nfollowing RSD contract:\\nContractor:\\nContract Period:\\nContract Amount:\\nFund:\\nCompetitive Process:\\n\\nVergesRome Architects, APAC\\n03/07/2014 - 03/07/2017\\n$2,696,406.00\\nIAT - FEMA\\nCompetitive\\n\\nDescription of Service: This project consists of the renovation of John\\nMcDonogh High School.\\n5.2.31\\n\\nOn motion of Mr. Guillot, seconded by Mr. Lee, the Board approved the\\nfollowing RSD contract amendment:\\nContractor:\\nContract Period:\\nPrevious Amount:\\nAmended Amount:\\nContract Amount:\\nFund:\\nCompetitive Process:\\n\\nVergesRome Architects, APAC\\n10/16/2013 - 10/16/2016\\n$265,287.00\\n$20,625.00\\n$285,912.00\\nIAT - FEMA\\nCompetitive\\n\\nDescription of Service: This amendment provides for the additional\\nservices for a water flow test, a Phase I environmental site assessment,\\nlead and asbestos investigation, and a topographic survey for Live Oak\\nElementary School refurbishment.\\n\\n\\x0cBOARD MINUTES\\n\\n5.2.32\\n\\n-15-\\n\\nMARCH 7, 2014\\n\\nOn motion of Mr. Guillot, seconded by Mr. Lee, the Board approved the\\nfollowing RSD contract amendment:\\nContractor:\\nContract Period:\\nPrevious Amount:\\nAmended Amount:\\nContract Amount:\\nFund:\\nCompetitive Process:\\n\\nVergesRome Architects, APAC\\n09/16/2010 - 09/16/2015\\n$944,413.20\\n$38,546.20\\n$982,959.40\\nIAT - FEMA\\nCompetitive\\n\\nDescription of Service: This amendment adjusts the designer\\xe2\\x80\\x99s fee for\\nbasic services for mothballing of closed schools - safe and secure at\\nGeorge Mondy Elementary School based on the revised AFC. The\\nproject was canceled, but is now being reinstated by the owner, and\\nadditional scope of work is being added to the project. It also provides for\\nthe addition of a new project and project number for demolition of the\\ncaretaker\\xe2\\x80\\x99s cottage at George Mondy Elementary School and at Andrew\\nJ. Bell Junior High School.\\n5.2.33\\n\\nOn motion of Mr. Guillot, seconded by Mr. Lee, the Board approved the\\nfollowing RSD contract amendment:\\nContractor:\\nContract Period:\\nPrevious Amount:\\nAmended Amount:\\nContract Amount:\\nFund:\\nCompetitive Process:\\n\\nWaggonner and Ball Architects, APC\\n08/15/2012 - 08/15/2015\\n$1,151,421.08\\n$5,500.00\\n$1,156,921.08\\nIAT - FEMA\\nCompetitive\\n\\nDescription of Service: This amendment provides for additional services\\nfor a land survey at the new three-section PK-8 school at Sherwood\\nForest School (New \\xe2\\x80\\x93 PK-8).\\n5.2.34\\n\\nOn motion of Mr. Guillot, seconded by Mr. Lee, the Board:\\na. approved the Change Order for the construction contract with C.D.W.\\nServices, L.L.C., for the mothballing of Andrew J. Bell Junior High\\nSchool (project number 2011-0853-0001) in the amount of\\n(Motion continues on page 16)\\n\\n\\x0cBOARD MINUTES\\n\\n-16-\\n\\nMARCH 7, 2014\\n\\n$361,334.40 in order to provide for: (1) removal of Regulated\\nAsbestos-Containing Materials (RACM) for all hazardous materials in\\nBuilding-E (Christy Building) and Building A (Annex Building) due to\\nconstruction debris and finishes that were dislodged during the\\nnecessary repairs to structural walls; (2) installation of a course of\\nbrick and mortar cap over the brick wall at the demolished breezeway\\nroof; and (3) general contractor's performance and payment bonds\\nand overhead and profit for the additional work; and\\nb. directed the RSD to submit the approved Change Order for\\nconsideration and approval at the next regularly scheduled meeting of\\nthe Joint Legislative Committee on the Budget.\\n5.2.35\\n\\nOn motion of Mr. Guillot, seconded by Mr. Lee, the Board:\\na. approved the Change Order for the construction contract with FHP\\nTectonics Corporation for the refurbishment of Frederick A. Douglass\\nHigh School (project number: 2012-0868-0001) in the amount of\\n$378,871.98 in order to provide for: (1) asbestos removal associated\\nwith classroom window replacement, due to the uncovering of\\nunforeseen caulk at these openings that consisted of Regulated\\nAsbestos-Containing Materials (RACM); (2) repair of existing\\nReinforced Concrete Pipe (RCP); and (3) deletion of the installation of\\nflood gates and Fiber Reinforced Panels (FRP) for the gymnasium, at\\nthe owner\\xe2\\x80\\x99s request; and\\nb. directed the RSD to submit the approved Change Order for\\nconsideration and approval at the next regularly scheduled meeting of\\nthe Joint Legislative Committee on the Budget.\\n\\n5.2.36\\n\\nOn motion of Mr. Guillot, seconded by Mr. Lee, the Board received the\\nreport on the BESE Budget.\\n\\n5.2.37\\n\\nOn motion of Mr. Guillot, seconded by Mr. Lee, the Board received the\\nBESE member notification protocol developed by the State\\nSuperintendent of Education.\\n\\n5.2.38\\n\\nOn motion of Mr. Guillot, seconded by Mr. Lee, the Board approved, as a\\nNotice of Intent, revisions to Bulletin 1929, Louisiana Accounting and\\nUniform Governmental Handbook, adding Chapter 15. Expenditure\\nRequirements, \\xc2\\xa71501. Seventy Percent Expenditure Requirement.\\n\\n\\x0cBOARD MINUTES\\n\\n-17-\\n\\nMARCH 7, 2014\\n\\nAgenda\\nItem 5.3.\\n\\nEducator Effectiveness Committee\\n\\n5.3.1\\n\\nOn motion of Ms. Boffy, seconded by Mr. Guillot, the Board received the\\nupdate regarding the study of the state accountability system and valueadded model.\\n\\n5.3.2\\n\\nOn motion of Ms. Boffy, seconded by Mr. Guillot, the Board deferred until\\nApril 2014: \\xe2\\x80\\x9cConsideration of revisions to Bulletin 746, Louisiana\\nStandards for State Certification of School Personnel, regarding\\nendorsements to existing teaching certificates.\\xe2\\x80\\x9d\\n\\nAgenda\\nItem 5.4.\\n\\nSchool Innovation and Turnaround Committee\\n\\n5.4.1\\n\\nOn motion of Mr. Garvey, seconded by Mr. Lee, the Board approved the\\nrequest for a material amendment to the charter governing Linwood\\nPublic Charter School, operated by Shreveport Charter Schools, Inc., to\\nadd kindergarten and first grade in the fall of 2014 and expand an\\nadditional grade per year until the school serves grades K-8.\\n\\n(Schedule 4)\\n\\n(Schedule 5)\\n\\n**********\\nPublic comments were received on the following School Innovation and\\nTurnaround Committee agenda item:\\nAgenda Item 3.1., \\xe2\\x80\\x9cConsideration of revisions to Bulletin 126, Charter\\nSchools, regarding charter school renewal and extension, evaluation of\\nalternative charter schools, and streamlining of policies.\\xe2\\x80\\x9d\\nSupport: None.\\nOppose: None.\\nInformation Only/Other: Mr. Shawn\\nDevelopmental Disabilities Council.\\n5.4.2\\n\\nFleming,\\n\\nLouisiana\\n\\nOn motion of Mr. Garvey, seconded by Mr. Guillot, the Board approved,\\nas a Notice of Intent, revisions to Bulletin 126, Charter Schools: \\xc2\\xa7103.\\nDefinitions; \\xc2\\xa7105. Purpose of Charter Schools; \\xc2\\xa7505. Eligibility to Apply\\nfor a Type 4 Charter School; \\xc2\\xa71101. Charter School Evaluation; \\xc2\\xa71103.\\nAlternate Evaluation of Charter Schools; \\xc2\\xa71303. Extension Review;\\n\\xc2\\xa71503. Charter Renewal Process and Timeline; \\xc2\\xa71903. Material\\n(Motion continues on page 18)\\n\\n\\x0cBOARD MINUTES\\n\\n-18-\\n\\nMARCH 7, 2014\\n\\nAmendments for BESE-Authorized Charter Schools; \\xc2\\xa71905. Non-Material\\nAmendments for BESE-Authorized Charter Schools; \\xc2\\xa72301. State\\nFunding; \\xc2\\xa72303. Federal Funding; \\xc2\\xa72713. At-Risk Students; \\xc2\\xa72907.\\nLeave of Absence; and \\xc2\\xa72909. Employee Benefits, as presented by the\\nLDE.\\nDr. Beebe and Ms. Hill were recorded as being opposed to the motion.\\nAgenda\\nItem 6.\\n\\nBoard Advisory Council Reports\\n\\nAgenda\\nItem 6.1.\\n\\nNonpublic School Council\\n\\n(Schedule 6)\\n\\nOn motion of Dr. Miranti, seconded by Mr. Guillot, the Board received the\\nminutes of the Nonpublic School Council meeting held February 4, 2014,\\nand approved the tentative agenda for March 25, 2014.\\nAgenda\\nItem 6.2.\\n\\nSuperintendents\\xe2\\x80\\x99 Advisory Council\\n\\n(Schedule 7)\\n\\nOn motion of Dr. Miranti, seconded by Mr. Guillot, the Board received the\\nminutes of the Superintendents\\xe2\\x80\\x99 Advisory Council meeting held\\nFebruary 13, 2014, and approved the tentative agenda for March 20,\\n2014.\\nWith no further business to come before the Board, the meeting was adjourned at\\n10:15 a.m.\\n\\n\\x0c\""
      ]
     },
     "execution_count": 13,
     "metadata": {},
     "output_type": "execute_result"
    }
   ],
   "source": [
    "import textract\n",
    "text = textract.process(\"meetingminutes.pdf\")\n",
    "text"
   ]
  },
  {
   "cell_type": "markdown",
   "metadata": {},
   "source": [
    "# python-docx"
   ]
  },
  {
   "cell_type": "code",
   "execution_count": 12,
   "metadata": {},
   "outputs": [
    {
     "name": "stdout",
     "output_type": "stream",
     "text": [
      "7\n",
      "Document Title\n",
      "A plain paragraph with some bold and some italic\n"
     ]
    }
   ],
   "source": [
    "import docx\n",
    "doc = docx.Document('demo.docx')\n",
    "print(len(doc.paragraphs))\n",
    "print(doc.paragraphs[0].text)\n",
    "print(doc.paragraphs[1].text)"
   ]
  },
  {
   "cell_type": "markdown",
   "metadata": {},
   "source": [
    "# tabula-py"
   ]
  },
  {
   "cell_type": "code",
   "execution_count": 25,
   "metadata": {},
   "outputs": [
    {
     "data": {
      "text/plain": [
       "[     mpg  cyl   disp   hp  drat     wt   qsec  vs  am  gear\n",
       " 0   21.0    6  160.0  110  3.90  2.620  16.46   0   1     4\n",
       " 1   21.0    6  160.0  110  3.90  2.875  17.02   0   1     4\n",
       " 2   22.8    4  108.0   93  3.85  2.320  18.61   1   1     4\n",
       " 3   21.4    6  258.0  110  3.08  3.215  19.44   1   0     3\n",
       " 4   18.7    8  360.0  175  3.15  3.440  17.02   0   0     3\n",
       " 5   18.1    6  225.0  105  2.76  3.460  20.22   1   0     3\n",
       " 6   14.3    8  360.0  245  3.21  3.570  15.84   0   0     3\n",
       " 7   24.4    4  146.7   62  3.69  3.190  20.00   1   0     4\n",
       " 8   22.8    4  140.8   95  3.92  3.150  22.90   1   0     4\n",
       " 9   19.2    6  167.6  123  3.92  3.440  18.30   1   0     4\n",
       " 10  17.8    6  167.6  123  3.92  3.440  18.90   1   0     4\n",
       " 11  16.4    8  275.8  180  3.07  4.070  17.40   0   0     3\n",
       " 12  17.3    8  275.8  180  3.07  3.730  17.60   0   0     3\n",
       " 13  15.2    8  275.8  180  3.07  3.780  18.00   0   0     3\n",
       " 14  10.4    8  472.0  205  2.93  5.250  17.98   0   0     3\n",
       " 15  10.4    8  460.0  215  3.00  5.424  17.82   0   0     3\n",
       " 16  14.7    8  440.0  230  3.23  5.345  17.42   0   0     3\n",
       " 17  32.4    4   78.7   66  4.08  2.200  19.47   1   1     4\n",
       " 18  30.4    4   75.7   52  4.93  1.615  18.52   1   1     4\n",
       " 19  33.9    4   71.1   65  4.22  1.835  19.90   1   1     4\n",
       " 20  21.5    4  120.1   97  3.70  2.465  20.01   1   0     3\n",
       " 21  15.5    8  318.0  150  2.76  3.520  16.87   0   0     3\n",
       " 22  15.2    8  304.0  150  3.15  3.435  17.30   0   0     3\n",
       " 23  13.3    8  350.0  245  3.73  3.840  15.41   0   0     3\n",
       " 24  19.2    8  400.0  175  3.08  3.845  17.05   0   0     3\n",
       " 25  27.3    4   79.0   66  4.08  1.935  18.90   1   1     4\n",
       " 26  26.0    4  120.3   91  4.43  2.140  16.70   0   1     5\n",
       " 27  30.4    4   95.1  113  3.77  1.513  16.90   1   1     5\n",
       " 28  15.8    8  351.0  264  4.22  3.170  14.50   0   1     5\n",
       " 29  19.7    6  145.0  175  3.62  2.770  15.50   0   1     5\n",
       " 30  15.0    8  301.0  335  3.54  3.570  14.60   0   1     5,\n",
       "    Sepal.Length  Sepal.Width  Petal.Length  Petal.Width Species\n",
       " 0           5.1          3.5           1.4          0.2  setosa\n",
       " 1           4.9          3.0           1.4          0.2  setosa\n",
       " 2           4.7          3.2           1.3          0.2  setosa\n",
       " 3           4.6          3.1           1.5          0.2  setosa\n",
       " 4           5.0          3.6           1.4          0.2  setosa\n",
       " 5           5.4          3.9           1.7          0.4  setosa,\n",
       "    Unnamed: 0  Sepal.Length  Sepal.Width  Petal.Length  Petal.Width    Species\n",
       " 0         145           6.7          3.3           5.7          2.5  virginica\n",
       " 1         146           6.7          3.0           5.2          2.3  virginica\n",
       " 2         147           6.3          2.5           5.0          1.9  virginica\n",
       " 3         148           6.5          3.0           5.2          2.0  virginica\n",
       " 4         149           6.2          3.4           5.4          2.3  virginica\n",
       " 5         150           5.9          3.0           5.1          1.8  virginica,\n",
       "    supp\n",
       " 0    VC\n",
       " 1    VC\n",
       " 2    VC\n",
       " 3    VC\n",
       " 4    VC\n",
       " 5    VC\n",
       " 6    VC\n",
       " 7    VC\n",
       " 8    VC\n",
       " 9    VC\n",
       " 10   VC\n",
       " 11   VC\n",
       " 12   VC\n",
       " 13   VC]"
      ]
     },
     "execution_count": 25,
     "metadata": {},
     "output_type": "execute_result"
    }
   ],
   "source": [
    "from tabula import read_pdf\n",
    "\n",
    "# Read pdf into list of DataFrame\n",
    "df = read_pdf(\"data.pdf\", pages='all')\n",
    "df"
   ]
  },
  {
   "cell_type": "code",
   "execution_count": null,
   "metadata": {},
   "outputs": [],
   "source": []
  }
 ],
 "metadata": {
  "kernelspec": {
   "display_name": "Python 3",
   "language": "python",
   "name": "python3"
  },
  "language_info": {
   "codemirror_mode": {
    "name": "ipython",
    "version": 3
   },
   "file_extension": ".py",
   "mimetype": "text/x-python",
   "name": "python",
   "nbconvert_exporter": "python",
   "pygments_lexer": "ipython3",
   "version": "3.7.4"
  }
 },
 "nbformat": 4,
 "nbformat_minor": 2
}
