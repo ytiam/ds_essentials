{
 "cells": [
  {
   "cell_type": "code",
   "execution_count": 1,
   "metadata": {},
   "outputs": [],
   "source": [
    "# We'll need numpy for some mathematical operations\n",
    "import numpy as np\n",
    "\n",
    "# matplotlib for displaying the output\n",
    "import matplotlib.pyplot as plt\n",
    "%matplotlib inline\n",
    "\n",
    "# and IPython.display for audio output\n",
    "import IPython.display\n",
    "\n",
    "# Librosa for audio\n",
    "import librosa\n",
    "# And the display module for visualization\n",
    "import librosa.display"
   ]
  },
  {
   "cell_type": "code",
   "execution_count": 2,
   "metadata": {},
   "outputs": [
    {
     "data": {
      "text/plain": [
       "array([-0.00137766, -0.00202094, -0.00286619, ..., -0.01356363,\n",
       "       -0.00691551,  0.        ], dtype=float32)"
      ]
     },
     "execution_count": 2,
     "metadata": {},
     "output_type": "execute_result"
    }
   ],
   "source": [
    "audio_path = librosa.util.example_audio_file()\n",
    "# or uncomment the line below and point it at your favorite song:\n",
    "#\n",
    "audio_path = '/home/madhumala/Projects/test_fn_ML_libraries/input/audio/sample.wav'\n",
    "\n",
    "y, sr = librosa.load(audio_path)\n",
    "y"
   ]
  },
  {
   "cell_type": "code",
   "execution_count": 59,
   "metadata": {},
   "outputs": [
    {
     "name": "stdout",
     "output_type": "stream",
     "text": [
      "Requirement already satisfied: librosa in /home/madhumala/anaconda3/lib/python3.7/site-packages (0.7.2)\n",
      "Requirement already satisfied: joblib>=0.12 in /home/madhumala/anaconda3/lib/python3.7/site-packages (from librosa) (0.14.1)\n",
      "Requirement already satisfied: resampy>=0.2.2 in /home/madhumala/anaconda3/lib/python3.7/site-packages (from librosa) (0.2.2)\n",
      "Requirement already satisfied: numpy>=1.15.0 in /home/madhumala/anaconda3/lib/python3.7/site-packages (from librosa) (1.18.1)\n",
      "Requirement already satisfied: six>=1.3 in /home/madhumala/anaconda3/lib/python3.7/site-packages (from librosa) (1.12.0)\n",
      "Requirement already satisfied: decorator>=3.0.0 in /home/madhumala/anaconda3/lib/python3.7/site-packages (from librosa) (4.4.1)\n",
      "Requirement already satisfied: scikit-learn!=0.19.0,>=0.14.0 in /home/madhumala/anaconda3/lib/python3.7/site-packages (from librosa) (0.22.1)\n",
      "Requirement already satisfied: numba>=0.43.0 in /home/madhumala/anaconda3/lib/python3.7/site-packages (from librosa) (0.48.0)\n",
      "Requirement already satisfied: soundfile>=0.9.0 in /home/madhumala/anaconda3/lib/python3.7/site-packages (from librosa) (0.10.3.post1)\n",
      "Requirement already satisfied: audioread>=2.0.0 in /home/madhumala/anaconda3/lib/python3.7/site-packages (from librosa) (2.1.8)\n",
      "Requirement already satisfied: scipy>=1.0.0 in /home/madhumala/anaconda3/lib/python3.7/site-packages (from librosa) (1.4.1)\n",
      "Requirement already satisfied: llvmlite<0.32.0,>=0.31.0dev0 in /home/madhumala/anaconda3/lib/python3.7/site-packages (from numba>=0.43.0->librosa) (0.31.0)\n",
      "Requirement already satisfied: setuptools in /home/madhumala/anaconda3/lib/python3.7/site-packages (from numba>=0.43.0->librosa) (45.2.0.post20200210)\n",
      "Requirement already satisfied: cffi>=1.0 in /home/madhumala/anaconda3/lib/python3.7/site-packages (from soundfile>=0.9.0->librosa) (1.14.0)\n",
      "Requirement already satisfied: pycparser in /home/madhumala/anaconda3/lib/python3.7/site-packages (from cffi>=1.0->soundfile>=0.9.0->librosa) (2.19)\n"
     ]
    }
   ],
   "source": [
    "#!pip install librosa"
   ]
  },
  {
   "cell_type": "code",
   "execution_count": null,
   "metadata": {},
   "outputs": [],
   "source": []
  }
 ],
 "metadata": {
  "kernelspec": {
   "display_name": "Python 3",
   "language": "python",
   "name": "python3"
  },
  "language_info": {
   "codemirror_mode": {
    "name": "ipython",
    "version": 3
   },
   "file_extension": ".py",
   "mimetype": "text/x-python",
   "name": "python",
   "nbconvert_exporter": "python",
   "pygments_lexer": "ipython3",
   "version": "3.7.6"
  }
 },
 "nbformat": 4,
 "nbformat_minor": 4
}
