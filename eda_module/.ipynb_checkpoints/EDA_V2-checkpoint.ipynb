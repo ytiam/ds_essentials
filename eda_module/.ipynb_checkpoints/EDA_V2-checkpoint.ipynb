{
 "cells": [
  {
   "cell_type": "code",
   "execution_count": 1,
   "metadata": {},
   "outputs": [],
   "source": [
    "import pandas as pd\n",
    "import seaborn as sns\n",
    "from scipy import stats\n",
    "\n",
    "import folium\n",
    "import numpy as np\n",
    "import s3fs\n",
    "import sys\n",
    "import numpy as np\n",
    "import time\n",
    "import re\n",
    "import pandas as pd\n",
    "from collections import namedtuple\n",
    "import dask.dataframe as dd\n",
    "from tabulate import tabulate"
   ]
  },
  {
   "cell_type": "code",
   "execution_count": 2,
   "metadata": {},
   "outputs": [],
   "source": [
    "from EDA import EDA\n",
    "# import re"
   ]
  },
  {
   "cell_type": "code",
   "execution_count": 3,
   "metadata": {},
   "outputs": [
    {
     "data": {
      "text/plain": [
       "(265, 53)"
      ]
     },
     "execution_count": 3,
     "metadata": {},
     "output_type": "execute_result"
    }
   ],
   "source": [
    "path_ = 'XXXXXXXXXXXX/6_samples_for_chun_only_amt_cols.csv'\n",
    "eda = EDA()\n",
    "data = eda.read_table(path_)\n",
    "data.shape"
   ]
  },
  {
   "cell_type": "code",
   "execution_count": 1,
   "metadata": {},
   "outputs": [],
   "source": [
    "# data.columns"
   ]
  },
  {
   "cell_type": "code",
   "execution_count": 6,
   "metadata": {},
   "outputs": [
    {
     "name": "stdout",
     "output_type": "stream",
     "text": [
      "1 . Number of rows : 265 \n",
      "\n",
      "\n",
      "2 . Number of columns : 53 \n",
      "\n",
      "\n",
      "3 . Data Type Frequency: \n",
      "\n",
      "╒════╤═════════════╤═════════╕\n",
      "│    │ Data Type   │   Count │\n",
      "╞════╪═════════════╪═════════╡\n",
      "│  0 │ object      │      53 │\n",
      "╘════╧═════════════╧═════════╛\n",
      "\n",
      "\n",
      "4 . All columns are not in lower case -------> Making it into lower case\n",
      "\n",
      "\n",
      "5 . All column names are trimmed\n",
      "\n",
      "\n",
      "6. Checking for special characters in column names : \n",
      "\n",
      "\n",
      "\t None of the column names contain special characters\n",
      "\n",
      "\n"
     ]
    }
   ],
   "source": [
    "data = eda.data_check(data)"
   ]
  },
  {
   "cell_type": "code",
   "execution_count": 2,
   "metadata": {},
   "outputs": [],
   "source": [
    "data2 = eda.trim(data)\n",
    "data2.columns"
   ]
  },
  {
   "cell_type": "code",
   "execution_count": 3,
   "metadata": {},
   "outputs": [],
   "source": [
    "data3 = eda.special_char(data2 , '')\n",
    "data3.columns"
   ]
  },
  {
   "cell_type": "code",
   "execution_count": 12,
   "metadata": {},
   "outputs": [
    {
     "name": "stdout",
     "output_type": "stream",
     "text": [
      "1 . Unique Count ( Primary Key ) :  265\n",
      "\n",
      "\n",
      "2 . Duplicate Primary Key is not present\n",
      "\n",
      "\n",
      "3 . Primary Key does not have missing values\n",
      "\n",
      "\n",
      "4 . Frequency table of Primary Key length\n",
      "╒══════════════╤═════════╕\n",
      "│   KEY Length │   Count │\n",
      "╞══════════════╪═════════╡\n",
      "│            7 │     188 │\n",
      "├──────────────┼─────────┤\n",
      "│            6 │      66 │\n",
      "├──────────────┼─────────┤\n",
      "│            5 │       9 │\n",
      "├──────────────┼─────────┤\n",
      "│            4 │       2 │\n",
      "╘══════════════╧═════════╛\n",
      "\n",
      "\n"
     ]
    }
   ],
   "source": [
    "eda.primary_key_check(data3 , 'idx')#'TX-POLICY-NUMBER-SUFFIX' )"
   ]
  },
  {
   "cell_type": "code",
   "execution_count": 13,
   "metadata": {
    "scrolled": true
   },
   "outputs": [],
   "source": [
    "# eda.target_check(data3 ,'FRAUD_IND' )"
   ]
  },
  {
   "cell_type": "code",
   "execution_count": 14,
   "metadata": {},
   "outputs": [
    {
     "data": {
      "text/plain": [
       "(265, 53)"
      ]
     },
     "execution_count": 14,
     "metadata": {},
     "output_type": "execute_result"
    }
   ],
   "source": [
    "data3.shape"
   ]
  },
  {
   "cell_type": "code",
   "execution_count": 17,
   "metadata": {},
   "outputs": [
    {
     "name": "stdout",
     "output_type": "stream",
     "text": [
      "Duplicate rows are not present in full data\n",
      "\tNumber of duplicate rows : 0  \n",
      "\n",
      "\t Duplicate rows are present on the basis of  ['CLM_NUM']\n",
      "\t Number of duplicate rows : 265  \n",
      "\n",
      "\n",
      "\n"
     ]
    }
   ],
   "source": [
    "eda.duplicate_check(data3,['CLM_NUM'])"
   ]
  },
  {
   "cell_type": "code",
   "execution_count": null,
   "metadata": {},
   "outputs": [],
   "source": []
  }
 ],
 "metadata": {
  "kernelspec": {
   "display_name": "Python 3",
   "language": "python",
   "name": "python3"
  },
  "language_info": {
   "codemirror_mode": {
    "name": "ipython",
    "version": 3
   },
   "file_extension": ".py",
   "mimetype": "text/x-python",
   "name": "python",
   "nbconvert_exporter": "python",
   "pygments_lexer": "ipython3",
   "version": "3.6.5"
  }
 },
 "nbformat": 4,
 "nbformat_minor": 2
}
